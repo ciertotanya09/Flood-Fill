{
  "nbformat": 4,
  "nbformat_minor": 0,
  "metadata": {
    "kernelspec": {
      "display_name": "Python 3",
      "language": "python",
      "name": "python3"
    },
    "language_info": {
      "codemirror_mode": {
        "name": "ipython",
        "version": 3
      },
      "file_extension": ".py",
      "mimetype": "text/x-python",
      "name": "python",
      "nbconvert_exporter": "python",
      "pygments_lexer": "ipython3",
      "version": "3.8.3"
    },
    "colab": {
      "name": "flood_fill.ipynb",
      "provenance": []
    }
  },
  "cells": [
    {
      "cell_type": "code",
      "metadata": {
        "id": "SWOxW4pQB4jv"
      },
      "source": [
        "import cv2;\n",
        "import matplotlib.pyplot as plt"
      ],
      "execution_count": 1,
      "outputs": []
    },
    {
      "cell_type": "code",
      "metadata": {
        "colab": {
          "base_uri": "https://localhost:8080/",
          "height": 271
        },
        "id": "nWP1eCb_B4kB",
        "outputId": "3ec7dd84-6625-465e-96b3-a598d2a75a7c"
      },
      "source": [
        "im=cv2.imread(\"B.png\");\n",
        "print(type(im))\n",
        "img=plt.imshow(im)"
      ],
      "execution_count": 2,
      "outputs": [
        {
          "output_type": "stream",
          "text": [
            "<class 'numpy.ndarray'>\n"
          ],
          "name": "stdout"
        },
        {
          "output_type": "display_data",
          "data": {
            "image/png": "[encoded data removed]",
            "text/plain": [
              "<Figure size 432x288 with 1 Axes>"
            ]
          },
          "metadata": {
            "tags": [],
            "needs_background": "light"
          }
        }
      ]
    },
    {
      "cell_type": "code",
      "metadata": {
        "id": "-UhoZELlB4kC"
      },
      "source": [
        "import numpy as np"
      ],
      "execution_count": 3,
      "outputs": []
    },
    {
      "cell_type": "code",
      "metadata": {
        "id": "JCugIjyiHKbV"
      },
      "source": [
        "white=np.array([255,255,255])\n",
        "black=np.array([0,0,0])\n",
        "custom=np.array([150,255,127])\n",
        "\n",
        "max_length = 0\n",
        "\n",
        "for i in range(im.shape[0]):\n",
        "    inside = False\n",
        "    length = 0\n",
        "    for j in range(im.shape[1]):\n",
        "        if np.array_equal(im[i, j], black) == True:\n",
        "            inside = True\n",
        "            if j > max_length:\n",
        "                max_length = j\n",
        "            currPos = j\n",
        "            continue\n",
        "        if np.array_equal(im[i, j], white) == True and inside == True and max_length != 0 and j <= max_length:\n",
        "            im[i, j] = custom\n",
        "        if np.array_equal(im[i, j], black) == True:\n",
        "            inside = False\n",
        "            break"
      ],
      "execution_count": 4,
      "outputs": []
    },
    {
      "cell_type": "code",
      "metadata": {
        "colab": {
          "base_uri": "https://localhost:8080/",
          "height": 271
        },
        "id": "7Pqp6_L1HKft",
        "outputId": "14858936-1621-4617-e236-97256ef6d2fa"
      },
      "source": [
        "\n",
        "img=plt.imshow(im)\n",
        "im.shape"
      ],
      "execution_count": 5,
      "outputs": [
        {
          "output_type": "execute_result",
          "data": {
            "text/plain": [
              "(600, 1000, 3)"
            ]
          },
          "metadata": {
            "tags": []
          },
          "execution_count": 5
        },
        {
          "output_type": "display_data",
          "data": {
            "image/png": "[encoded data removed]",
            "text/plain": [
              "<Figure size 432x288 with 1 Axes>"
            ]
          },
          "metadata": {
            "tags": [],
            "needs_background": "light"
          }
        }
      ]
    },
    {
      "cell_type": "code",
      "metadata": {
        "id": "qgxdZvOhHKl9"
      },
      "source": [
        ""
      ],
      "execution_count": null,
      "outputs": []
    },
    {
      "cell_type": "code",
      "metadata": {
        "id": "MvowT_gtHKqC"
      },
      "source": [
        ""
      ],
      "execution_count": null,
      "outputs": []
    },
    {
      "cell_type": "code",
      "metadata": {
        "id": "Kmzdtp7nHKth"
      },
      "source": [
        ""
      ],
      "execution_count": null,
      "outputs": []
    }
  ]
}